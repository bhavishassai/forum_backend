{
 "cells": [
  {
   "cell_type": "code",
   "execution_count": 25,
   "metadata": {},
   "outputs": [
    {
     "name": "stdout",
     "output_type": "stream",
     "text": [
      "Response is 200\n",
      "Insert {'name': 'bhavish'} successful\n"
     ]
    }
   ],
   "source": [
    "\n",
    "import requests\n",
    "import json\n",
    "def test_get_request():\n",
    "    data = {\n",
    "        \"name\":\"bhavish\"\n",
    "    }\n",
    "    headers = {'Content-type': 'application/json', 'Accept': 'text/plain'}\n",
    "    response = requests.post(url=\"http://localhost:5000/home\",data=json.dumps(data),headers=headers)\n",
    "    \n",
    "    if(response.status_code == 200):\n",
    "        print(\"Response is 200\")\n",
    "        print(response.text)\n",
    "\n",
    "test_get_request()        "
   ]
  },
  {
   "cell_type": "code",
   "execution_count": 5,
   "metadata": {},
   "outputs": [],
   "source": [
    "import requests\n",
    "\n",
    "def test_get_request():\n",
    "    response = requests.get(url=\"https://www.wikipedia.org/\")\n",
    "    file = open(\"test.html\",\"w\",encoding='utf-8')\n",
    "    file.write(response.text)\n",
    "\n",
    "test_get_request()"
   ]
  },
  {
   "cell_type": "code",
   "execution_count": null,
   "metadata": {},
   "outputs": [],
   "source": [
    "import openpyxl\n",
    "\n",
    "def test_get_column_names():\n",
    "    wb = openpyxl.load_workbook(\"test.xlsx\")\n",
    "    sheet = wb[\"Fruits\"]\n",
    "    for i in range(2,8,1):\n",
    "        print(sheet.cell(row=i,column=2).value)"
   ]
  },
  {
   "cell_type": "code",
   "execution_count": null,
   "metadata": {},
   "outputs": [],
   "source": [
    "import openpyxl\n",
    "wb = openpyxl.load_workbook(\"test.xlsx\")\n",
    "sheet = wb[\"Fruits\"]\n",
    "for i in range(2,8,1):\n",
    "  print(sheet.cell(row=i,column=2).value)"
   ]
  },
  {
   "cell_type": "code",
   "execution_count": null,
   "metadata": {},
   "outputs": [],
   "source": []
  }
 ],
 "metadata": {
  "interpreter": {
   "hash": "b57cf49ba40cffb9f573ffff2e7abee1c00c6dadfcb1e268543de4b96bfe2901"
  },
  "kernelspec": {
   "display_name": "Python 3.10.0 64-bit",
   "name": "python3"
  },
  "language_info": {
   "codemirror_mode": {
    "name": "ipython",
    "version": 3
   },
   "file_extension": ".py",
   "mimetype": "text/x-python",
   "name": "python",
   "nbconvert_exporter": "python",
   "pygments_lexer": "ipython3",
   "version": "3.10.0"
  },
  "orig_nbformat": 4
 },
 "nbformat": 4,
 "nbformat_minor": 2
}
